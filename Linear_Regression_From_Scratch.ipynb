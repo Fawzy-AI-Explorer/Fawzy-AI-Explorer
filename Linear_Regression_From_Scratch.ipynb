{
  "nbformat": 4,
  "nbformat_minor": 0,
  "metadata": {
    "colab": {
      "provenance": [],
      "authorship_tag": "ABX9TyOhmR6LFKtRxKuXrRXNz+QU",
      "include_colab_link": true
    },
    "kernelspec": {
      "name": "python3",
      "display_name": "Python 3"
    },
    "language_info": {
      "name": "python"
    }
  },
  "cells": [
    {
      "cell_type": "markdown",
      "metadata": {
        "id": "view-in-github",
        "colab_type": "text"
      },
      "source": [
        "<a href=\"https://colab.research.google.com/github/Fawzy-AI-Explorer/Fawzy-AI-Explorer/blob/main/Linear_Regression_From_Scratch.ipynb\" target=\"_parent\"><img src=\"https://colab.research.google.com/assets/colab-badge.svg\" alt=\"Open In Colab\"/></a>"
      ]
    },
    {
      "cell_type": "markdown",
      "source": [
        "# Linear Regression From Scratch"
      ],
      "metadata": {
        "id": "0kvJneJdrMQT"
      }
    },
    {
      "cell_type": "markdown",
      "source": [
        "## Goals\n",
        "In this toturial, we will:\n",
        "\n",
        "- Implement the linear regression model\n",
        "- Implement the gradient descent algorithm to train the model\n",
        "- Implement $R^2 Score$ to calculate the accuracy<br><br>\n",
        "\n",
        "*All from scratch*"
      ],
      "metadata": {
        "id": "saplMwKGrVBQ"
      }
    },
    {
      "cell_type": "markdown",
      "source": [
        "## Tools\n",
        "In this toturial, we will make use of:\n",
        "- math, This module provides access to the mathematical functions defined by the C standard\n",
        "- pandas, a Python library used for working with data sets\n",
        "- NumPy, a popular library for scientific computing\n",
        "- seaborn, a Python data visualization library based on matplotlib\n",
        "- Matplotlib, a popular library for plotting data"
      ],
      "metadata": {
        "id": "d2VFcTdTseFO"
      }
    },
    {
      "cell_type": "code",
      "execution_count": 2,
      "metadata": {
        "id": "Suy_k-6rq8gl"
      },
      "outputs": [],
      "source": [
        "import math, copy\n",
        "import pandas as pd\n",
        "import numpy as np\n",
        "import seaborn as sns\n",
        "import matplotlib.pyplot as plt"
      ]
    },
    {
      "cell_type": "code",
      "source": [
        "\"\"\"Define a linear regressino class.\"\"\"\n",
        "\n",
        "\n",
        "class _LinearRegression():\n",
        "    \"\"\"Representation of a linear regression model.\n",
        "    the model predicts a number form  infinitely many possible outputs.\n",
        "    \"\"\"\n",
        "\n",
        "    def __init__(self):\n",
        "      \"\"\"Initialize the linear regression model\"\"\"\n",
        "\n",
        "    def _fit(self, X, y):\n",
        "      \"\"\"\n",
        "      Fit linear model.\n",
        "\n",
        "      Args:\n",
        "        X (ndarray(m, n)) : Training data (m samples & n features).\n",
        "        y (ndarray(m, ))  : Target values (m samples).\n",
        "\n",
        "      Returns:\n",
        "        self (object) : Fitted Estimator.\n",
        "      \"\"\"\n",
        "\n",
        "    def _predict(self, X):\n",
        "      \"\"\"\n",
        "      Predict using the linear model.\n",
        "\n",
        "      Args:\n",
        "        X (ndarray(m, n)) : Samples (m samples & n features).\n",
        "\n",
        "      Returns:\n",
        "        y (ndarray(m, ))  : Returns predicted values.\n",
        "      \"\"\"\n",
        "\n",
        "    def _score(self, X, y):\n",
        "      \"\"\"\n",
        "      Return the coefficient of determination of the prediction.\n",
        "\n",
        "      Args:\n",
        "        X (ndarray(m, n)) : Test samples (m samples & n features).\n",
        "        y (ndarray(m, ))  : True values for X (m samples).\n",
        "\n",
        "      Returns:\n",
        "        score (float) : R2 score of self.predict() w.r.t. y.\n",
        "      \"\"\"\n",
        "\n",
        "    def _get_params(self):\n",
        "      \"\"\"\n",
        "      Get parameters for this estimator.\n",
        "\n",
        "      Returns:\n",
        "        params (dict) : Parameter names mapped to their values.\n",
        "      \"\"\"\n",
        "\n",
        "    def _set_params(self, **params):\n",
        "      \"\"\"\n",
        "      Set the parameters of this estimator.\n",
        "\n",
        "      Args:\n",
        "        Estimator parameters.\n",
        "\n",
        "      Returns:\n",
        "        self (estimator instance) : Estimator instance.\n",
        "      \"\"\"\n"
      ],
      "metadata": {
        "id": "57Ab-TcG4Xdo"
      },
      "execution_count": 4,
      "outputs": []
    },
    {
      "cell_type": "code",
      "source": [],
      "metadata": {
        "id": "GrwPXBDKG_3R"
      },
      "execution_count": null,
      "outputs": []
    }
  ]
}